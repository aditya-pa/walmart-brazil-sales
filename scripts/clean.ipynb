{
 "cells": [
  {
   "cell_type": "code",
   "execution_count": 6,
   "metadata": {},
   "outputs": [],
   "source": [
    "import pyodbc\n",
    "import pandas as pd"
   ]
  },
  {
   "cell_type": "markdown",
   "metadata": {},
   "source": [
    "\n",
    "### Database connection configuration"
   ]
  },
  {
   "cell_type": "code",
   "execution_count": 7,
   "metadata": {},
   "outputs": [],
   "source": [
    "DB_CONFIG = {\n",
    "    \"server\": \"localhost\",  # Your SQL Server address\n",
    "    \"database\": \"Walmart\",  # Your database name\n",
    "    \"username\": \"sa\",       # Your SQL Server username\n",
    "    \"password\": \"Type_your_own_password_here=\"  # Your SQL Server password\n",
    "}"
   ]
  },
  {
   "cell_type": "code",
   "execution_count": 10,
   "metadata": {},
   "outputs": [],
   "source": [
    "def connect_to_db(db_config):\n",
    "    \"\"\"Establish a connection to the SQL Server.\"\"\"\n",
    "    print(\"Connecting to the database...\")\n",
    "    conn = pyodbc.connect(\n",
    "        f\"DRIVER={{ODBC Driver 17 for SQL Server}};\"\n",
    "        f\"SERVER={db_config['server']};\"\n",
    "        f\"DATABASE={db_config['database']};\"\n",
    "        f\"UID={db_config['username']};\"\n",
    "        f\"PWD={db_config['password']}\"\n",
    "    )\n",
    "    print(\"Connection successful!\")\n",
    "    return conn\n",
    "\n",
    "def fetch_data(cursor, table_name):\n",
    "    \"\"\"Fetch data from the table and handle potential issues.\"\"\"\n",
    "    print(f\"Fetching data from the {table_name} table...\")\n",
    "    query = f\"SELECT * FROM {table_name}\"\n",
    "    cursor.execute(query)\n",
    "    rows = cursor.fetchall()\n",
    "    columns = [column[0] for column in cursor.description]\n",
    "    \n",
    "    # Convert rows to DataFrame\n",
    "    rows_as_lists = [list(row) for row in rows]  # Convert each row to a list\n",
    "    df = pd.DataFrame(rows_as_lists, columns=columns)\n",
    "    \n",
    "    print(f\"Fetched {len(df)} rows and {len(columns)} columns from the {table_name} table.\")\n",
    "    return df\n",
    "\n",
    "def clean_data(df):\n",
    "    \"\"\"Perform cleaning operations on the data.\"\"\"\n",
    "    print(\"Cleaning data...\")\n",
    "\n",
    "    # Example: Remove rows with missing values (NaN)\n",
    "    initial_row_count = len(df)\n",
    "    df = df.dropna()  # Drop rows with any NaN values\n",
    "    print(f\"Removed {initial_row_count - len(df)} rows with missing values.\")\n",
    "\n",
    "    # Example: Ensure 'float' columns contain only valid numbers\n",
    "    float_columns = ['product_name_length', 'product_description_length', 'product_photos_qty', \n",
    "                     'product_weight_g', 'product_length_cm', 'product_height_cm', 'product_width_cm']\n",
    "    \n",
    "    for col in float_columns:\n",
    "        df[col] = pd.to_numeric(df[col], errors='coerce')  # Convert to numeric, invalid values become NaN\n",
    "\n",
    "    # Example: Replace NaN values in 'float' columns with 0 or another default value\n",
    "    df[float_columns] = df[float_columns].fillna(0)\n",
    "    print(f\"Cleaned {len(df)} rows. NaN values in numeric columns replaced with 0.\")\n",
    "    \n",
    "    print(\"Data cleaning complete.\")\n",
    "    return df\n",
    "\n",
    "def update_data_bulk(cursor, df, table_name):\n",
    "    \"\"\"Update the cleaned data back into the SQL table using batch updates.\"\"\"\n",
    "    print(f\"Updating data in the {table_name} table (bulk update)...\")\n",
    "    \n",
    "    update_query = \"\"\"\n",
    "    UPDATE {table_name} \n",
    "    SET \n",
    "        product_category = ?, \n",
    "        product_name_length = ?, \n",
    "        product_description_length = ?, \n",
    "        product_photos_qty = ?, \n",
    "        product_weight_g = ?, \n",
    "        product_length_cm = ?, \n",
    "        product_height_cm = ?, \n",
    "        product_width_cm = ? \n",
    "    WHERE product_id = ?\n",
    "    \"\"\".format(table_name=table_name)\n",
    "\n",
    "    # Prepare the data as a list of tuples for bulk execution\n",
    "    update_values = [tuple(row) for _, row in df.iterrows()]\n",
    "    \n",
    "    cursor.executemany(update_query, update_values)\n",
    "    print(f\"Successfully updated {len(df)} records in the {table_name} table.\")\n",
    "\n",
    "def main():\n",
    "    print(\"Starting process...\")\n",
    "\n",
    "    # Connect to the database\n",
    "    conn = connect_to_db(DB_CONFIG)\n",
    "    cursor = conn.cursor()\n",
    "\n",
    "    # Fetch data from the `products` table\n",
    "    table_name = \"products\"\n",
    "    df = fetch_data(cursor, table_name)\n",
    "\n",
    "    # Clean the data\n",
    "    cleaned_df = clean_data(df)\n",
    "\n",
    "    # Update cleaned data back to SQL Server (bulk update)\n",
    "    update_data_bulk(cursor, cleaned_df, table_name)\n",
    "    \n",
    "    # Commit the changes and close the connection\n",
    "    conn.commit()\n",
    "    conn.close()\n",
    "\n",
    "    print(\"Data cleaned and updated successfully.\")\n",
    "    print(\"Process complete.\")\n",
    "\n",
    "\n"
   ]
  },
  {
   "cell_type": "markdown",
   "metadata": {},
   "source": [
    "### Run the process"
   ]
  },
  {
   "cell_type": "code",
   "execution_count": 9,
   "metadata": {},
   "outputs": [],
   "source": [
    "\n",
    "main()"
   ]
  }
 ],
 "metadata": {
  "kernelspec": {
   "display_name": "base",
   "language": "python",
   "name": "python3"
  },
  "language_info": {
   "codemirror_mode": {
    "name": "ipython",
    "version": 3
   },
   "file_extension": ".py",
   "mimetype": "text/x-python",
   "name": "python",
   "nbconvert_exporter": "python",
   "pygments_lexer": "ipython3",
   "version": "3.12.7"
  }
 },
 "nbformat": 4,
 "nbformat_minor": 2
}
